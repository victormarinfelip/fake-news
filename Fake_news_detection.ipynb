{
 "cells": [
  {
   "cell_type": "markdown",
   "id": "ranging-gothic",
   "metadata": {},
   "source": [
    "# A fake news detector - Víctor Marín Felip\n",
    "\n",
    "In this notebook I will test several approaches into fake news detection and will discuss some particularities about the concept of detecting fake news in a text without actually verifying the text claims. Several approaches will be considered. The first one, a very naive one, will be quick and, well, wrong, on purpose. I will do this to highlight a bias problem with these kind of approaches and NLP overall. Basically we'll see the AI version of an ad-hominem fallacy! Later I will implement the approach described in https://onlinelibrary.wiley.com/doi/10.1002/spy2.9 for a better, more generalizable, result.\n",
    "\n",
    "The dataset consists on a set of english written articles manually classified as true or false.\n",
    "\n",
    "### The Naive Approach\n",
    "\n",
    "\n",
    "For a quick result we can just apply TF-IDF feature selection and then train any kind of classifier, like a Passive Agressive Classifier, both provided by sklearn. We start importing our stuff:"
   ]
  },
  {
   "cell_type": "code",
   "execution_count": 1,
   "id": "sixth-bargain",
   "metadata": {},
   "outputs": [],
   "source": [
    "import pandas as pd\n",
    "import itertools\n",
    "from sklearn.model_selection import train_test_split\n",
    "from sklearn.feature_extraction.text import TfidfVectorizer\n",
    "from sklearn.linear_model import PassiveAggressiveClassifier\n",
    "from sklearn.metrics import accuracy_score, confusion_matrix\n",
    "import matplotlib.pyplot as plt"
   ]
  },
  {
   "cell_type": "markdown",
   "id": "congressional-romantic",
   "metadata": {},
   "source": [
    "We now load the dataset, merge both true and fake news and add a label column, where \"0\" represents true news and \"1\" represents fake news.\n",
    "\n",
    "Also, the date and the location of the reported event should not correlate at all with the validity of the information presented, so I'll discard these columns. I'll do the same with the title column too. We live in a clickbait era and you can have very yellow-ish titles for true news. We should only look inside the article itself."
   ]
  },
  {
   "cell_type": "code",
   "execution_count": 2,
   "id": "frequent-observer",
   "metadata": {},
   "outputs": [
    {
     "data": {
      "text/html": [
       "<div>\n",
       "<style scoped>\n",
       "    .dataframe tbody tr th:only-of-type {\n",
       "        vertical-align: middle;\n",
       "    }\n",
       "\n",
       "    .dataframe tbody tr th {\n",
       "        vertical-align: top;\n",
       "    }\n",
       "\n",
       "    .dataframe thead th {\n",
       "        text-align: right;\n",
       "    }\n",
       "</style>\n",
       "<table border=\"1\" class=\"dataframe\">\n",
       "  <thead>\n",
       "    <tr style=\"text-align: right;\">\n",
       "      <th></th>\n",
       "      <th>text</th>\n",
       "      <th>label</th>\n",
       "    </tr>\n",
       "  </thead>\n",
       "  <tbody>\n",
       "    <tr>\n",
       "      <th>0</th>\n",
       "      <td>WASHINGTON (Reuters) - The head of a conservat...</td>\n",
       "      <td>0</td>\n",
       "    </tr>\n",
       "    <tr>\n",
       "      <th>1</th>\n",
       "      <td>WASHINGTON (Reuters) - Transgender people will...</td>\n",
       "      <td>0</td>\n",
       "    </tr>\n",
       "    <tr>\n",
       "      <th>2</th>\n",
       "      <td>WASHINGTON (Reuters) - The special counsel inv...</td>\n",
       "      <td>0</td>\n",
       "    </tr>\n",
       "    <tr>\n",
       "      <th>3</th>\n",
       "      <td>WASHINGTON (Reuters) - Trump campaign adviser ...</td>\n",
       "      <td>0</td>\n",
       "    </tr>\n",
       "    <tr>\n",
       "      <th>4</th>\n",
       "      <td>SEATTLE/WASHINGTON (Reuters) - President Donal...</td>\n",
       "      <td>0</td>\n",
       "    </tr>\n",
       "    <tr>\n",
       "      <th>...</th>\n",
       "      <td>...</td>\n",
       "      <td>...</td>\n",
       "    </tr>\n",
       "    <tr>\n",
       "      <th>23476</th>\n",
       "      <td>21st Century Wire says As 21WIRE reported earl...</td>\n",
       "      <td>1</td>\n",
       "    </tr>\n",
       "    <tr>\n",
       "      <th>23477</th>\n",
       "      <td>21st Century Wire says It s a familiar theme. ...</td>\n",
       "      <td>1</td>\n",
       "    </tr>\n",
       "    <tr>\n",
       "      <th>23478</th>\n",
       "      <td>Patrick Henningsen  21st Century WireRemember ...</td>\n",
       "      <td>1</td>\n",
       "    </tr>\n",
       "    <tr>\n",
       "      <th>23479</th>\n",
       "      <td>21st Century Wire says Al Jazeera America will...</td>\n",
       "      <td>1</td>\n",
       "    </tr>\n",
       "    <tr>\n",
       "      <th>23480</th>\n",
       "      <td>21st Century Wire says As 21WIRE predicted in ...</td>\n",
       "      <td>1</td>\n",
       "    </tr>\n",
       "  </tbody>\n",
       "</table>\n",
       "<p>44898 rows × 2 columns</p>\n",
       "</div>"
      ],
      "text/plain": [
       "                                                    text  label\n",
       "0      WASHINGTON (Reuters) - The head of a conservat...      0\n",
       "1      WASHINGTON (Reuters) - Transgender people will...      0\n",
       "2      WASHINGTON (Reuters) - The special counsel inv...      0\n",
       "3      WASHINGTON (Reuters) - Trump campaign adviser ...      0\n",
       "4      SEATTLE/WASHINGTON (Reuters) - President Donal...      0\n",
       "...                                                  ...    ...\n",
       "23476  21st Century Wire says As 21WIRE reported earl...      1\n",
       "23477  21st Century Wire says It s a familiar theme. ...      1\n",
       "23478  Patrick Henningsen  21st Century WireRemember ...      1\n",
       "23479  21st Century Wire says Al Jazeera America will...      1\n",
       "23480  21st Century Wire says As 21WIRE predicted in ...      1\n",
       "\n",
       "[44898 rows x 2 columns]"
      ]
     },
     "execution_count": 2,
     "metadata": {},
     "output_type": "execute_result"
    }
   ],
   "source": [
    "real = pd.read_csv(\"data/True.csv\")\n",
    "real[\"label\"] = 0\n",
    "fake = pd.read_csv(\"data/Fake.csv\")\n",
    "fake[\"label\"] = 1\n",
    "total = pd.concat([real, fake])\n",
    "total = total[[\"text\", \"label\"]]\n",
    "total"
   ]
  },
  {
   "cell_type": "markdown",
   "id": "potential-scanner",
   "metadata": {},
   "source": [
    "Let's take a quick look at the balance of the classes:"
   ]
  },
  {
   "cell_type": "code",
   "execution_count": 3,
   "id": "dramatic-archives",
   "metadata": {},
   "outputs": [
    {
     "name": "stdout",
     "output_type": "stream",
     "text": [
      "True samples: 21417\n",
      "Fake samples: 23481\n"
     ]
    }
   ],
   "source": [
    "counts = total[\"label\"].value_counts()\n",
    "print(\"True samples: {}\".format(counts.at[0]))\n",
    "print(\"Fake samples: {}\".format(counts.at[1]))"
   ]
  },
  {
   "cell_type": "markdown",
   "id": "ordered-flesh",
   "metadata": {},
   "source": [
    "Given how similar they are it is safe to just undersample the fake news class a little bit:"
   ]
  },
  {
   "cell_type": "code",
   "execution_count": 4,
   "id": "operational-prime",
   "metadata": {},
   "outputs": [
    {
     "data": {
      "text/plain": [
       "0    21417\n",
       "1    21417\n",
       "Name: label, dtype: int64"
      ]
     },
     "execution_count": 4,
     "metadata": {},
     "output_type": "execute_result"
    }
   ],
   "source": [
    "downsampled = total[total.label == 1].sample(n=counts.at[0])\n",
    "total = total[total.label == 0]\n",
    "total = pd.concat([total, downsampled])\n",
    "total[\"label\"].value_counts()"
   ]
  },
  {
   "cell_type": "markdown",
   "id": "discrete-speech",
   "metadata": {},
   "source": [
    "Now we create our train/test split and with tfidf we fit the data. Up to 3 ngrams, since we want to get a bit of meaning. We don't want too common/too rare words either, so we set the max_df and min_df thresholds. Here we use the stop word dictionary that comes with sklearn, which is not very good. More on this later.\n",
    "\n",
    "We also use IDF by default since it generally shows better results than TF on its own."
   ]
  },
  {
   "cell_type": "code",
   "execution_count": 5,
   "id": "unlimited-female",
   "metadata": {},
   "outputs": [],
   "source": [
    "x_train,x_test,y_train,y_test=train_test_split(total['text'], total.label, test_size=0.2)\n",
    "tfidf_vectorizer=TfidfVectorizer(stop_words='english', max_df=0.8, ngram_range=(1,3), min_df=0.05)\n",
    "tfidf_train=tfidf_vectorizer.fit_transform(x_train) \n",
    "tfidf_test=tfidf_vectorizer.transform(x_test)"
   ]
  },
  {
   "cell_type": "markdown",
   "id": "terminal-carbon",
   "metadata": {},
   "source": [
    "Now we fit our Passive Agressive Classifier and predict our test case:"
   ]
  },
  {
   "cell_type": "code",
   "execution_count": 6,
   "id": "searching-drove",
   "metadata": {},
   "outputs": [
    {
     "name": "stdout",
     "output_type": "stream",
     "text": [
      "Accuracy: 99.25 %\n",
      "Confusion Matrix:\n",
      "[[4247   36]\n",
      " [  28 4256]]\n"
     ]
    }
   ],
   "source": [
    "pac=PassiveAggressiveClassifier(max_iter=50)\n",
    "pac.fit(tfidf_train,y_train)\n",
    "y_pred=pac.predict(tfidf_test)\n",
    "score=accuracy_score(y_test,y_pred)\n",
    "print(\"Accuracy: {:.2f} %\".format(100*score))\n",
    "print(\"Confusion Matrix:\\n{}\".format(confusion_matrix(y_test, y_pred)))"
   ]
  },
  {
   "cell_type": "markdown",
   "id": "pregnant-directory",
   "metadata": {},
   "source": [
    "Amazing! almost perfect accuracy, only 20 false negatives and 28 false positives! We can claim that we have solved **this dataset**. However we're far from having a truly generalizable model for fake news detection. Our model is suffering from several biases that our dataset is specially vulnerable to.\n",
    "\n",
    "For example, our model is making an _ad hominem_ fallacy (or, at least, the AI version of it) when classifying. It turns out that the true news sources are usually Reuters and the like, while the fake news sources are niche ones. This way, if the model reads something like \"WASHINGTON (Reuters)\" at the beggining of an article it will classify it as true news. Let's show this with a very obvious fake news snippet:"
   ]
  },
  {
   "cell_type": "code",
   "execution_count": 7,
   "id": "departmental-maple",
   "metadata": {},
   "outputs": [
    {
     "name": "stdout",
     "output_type": "stream",
     "text": [
      "1\n"
     ]
    }
   ],
   "source": [
    "fake_article = \"Coronavirus Bioweapon – How China Stole Coronavirus From Canada And Weaponized It   Last year a mysterious shipment was caught smuggling Coronavirus from Canada. It was traced to Chinese agents working at a Canadian lab. Subsequent investigation by GreatGameIndia linked the agents to Chinese Biological Warfare Program from where the virus is suspected to have leaked causing the Wuhan Coronavirus outbreak.  On June 13, 2012 a 60-year-old Saudi man was admitted to a private hospital in Jeddah, Saudi Arabia, with a 7-day history of fever, cough, expectoration, and shortness of breath. He had no history of cardiopulmonary or renal disease, was receiving no long-term medications, and did not smoke.  Egyptian virologist Dr. Ali Mohamed Zaki isolated and identified a previously unknown coronavirus from his lungs. After routine diagnostics failed to identify the causative agent, Zaki contacted Ron Fouchier, a leading virologist at the Erasmus Medical Center (EMC) in Rotterdam, the Netherlands, for advice.\"\n",
    "pred = pac.predict(tfidf_vectorizer.transform([fake_article]))\n",
    "print(pred[0])"
   ]
  },
  {
   "cell_type": "markdown",
   "id": "interpreted-murray",
   "metadata": {},
   "source": [
    "Fake news. Good. Now we add \"WASHINGTON (Reuters)\" at the beggining of the article, where the model expects to see the source:"
   ]
  },
  {
   "cell_type": "code",
   "execution_count": 8,
   "id": "minute-programmer",
   "metadata": {},
   "outputs": [
    {
     "name": "stdout",
     "output_type": "stream",
     "text": [
      "0\n"
     ]
    }
   ],
   "source": [
    "fake_article = \"WASHINGTON (Reuters) - Coronavirus Bioweapon – How China Stole Coronavirus From Canada And Weaponized It   Last year a mysterious shipment was caught smuggling Coronavirus from Canada. It was traced to Chinese agents working at a Canadian lab. Subsequent investigation by GreatGameIndia linked the agents to Chinese Biological Warfare Program from where the virus is suspected to have leaked causing the Wuhan Coronavirus outbreak.  On June 13, 2012 a 60-year-old Saudi man was admitted to a private hospital in Jeddah, Saudi Arabia, with a 7-day history of fever, cough, expectoration, and shortness of breath. He had no history of cardiopulmonary or renal disease, was receiving no long-term medications, and did not smoke.  Egyptian virologist Dr. Ali Mohamed Zaki isolated and identified a previously unknown coronavirus from his lungs. After routine diagnostics failed to identify the causative agent, Zaki contacted Ron Fouchier, a leading virologist at the Erasmus Medical Center (EMC) in Rotterdam, the Netherlands, for advice.\"\n",
    "pred = pac.predict(tfidf_vectorizer.transform([fake_article]))\n",
    "print(pred[0])"
   ]
  },
  {
   "cell_type": "markdown",
   "id": "departmental-commitment",
   "metadata": {},
   "source": [
    "True news!? Wow, it turns out that the source of the news somehow is more important than the news themselves. This is a clear _ad hominem_ fallacy. Our model is not generalizable at all to the real world. Similarly we can expect these effects to happen with place names and person names. "
   ]
  },
  {
   "cell_type": "markdown",
   "id": "peaceful-gibson",
   "metadata": {},
   "source": [
    "### A better approach\n",
    "\n",
    "When I'm dealing with a complex problem in real life I don't want to reinvent the wheel. While I'm sure that I can do a good job engineering myself a better solution, I'd be wasting my time if I don't check what others have done first. After playing around a bit with the problem at hand (what we have done so far) the next logical step is to search for research papers that may have solved similar problems in the past, looking for ideas and inspiration.\n",
    "\n",
    "Thankfully the exercise quotes the perfect paper for this:\n",
    "\n",
    "_Detecting opinion spams and fake news using text classification, Hadeer Ahmed  Issa Traore  Sherif Saad, First published: 29 December 2017 https://doi.org/10.1002/spy2.9_\n",
    "\n",
    "Which can be found here: https://onlinelibrary.wiley.com/doi/full/10.1002/spy2.9\n",
    "\n",
    "On this paper the authors tackle this problem. We can just recreate their process and improve a bit on it. Let's start by writing a preprocessing function to:\n",
    "- Do stemming, so diferent verb conjugations, plural/singular forms, and similar tenses will be all converted to the same root word. NLTK can do this.\n",
    "- Do a proper stopword removal with NLTK\n",
    "- Remove punctuation.\n",
    "- Trim the initial N words of all the articles, as a way of making the model blind to the source of the report.\n",
    "\n",
    "\n",
    "We can arrange this process in a single class like this:"
   ]
  },
  {
   "cell_type": "code",
   "execution_count": 9,
   "id": "exterior-salmon",
   "metadata": {},
   "outputs": [],
   "source": [
    "from nltk.stem import PorterStemmer \n",
    "from nltk.tokenize import word_tokenize\n",
    "from nltk.corpus import stopwords\n",
    "import string\n",
    "from pandas import Series\n",
    "\n",
    "\n",
    "class Preprocess(object):\n",
    "\n",
    "    def __init__(self):\n",
    "        self.stemmer = PorterStemmer()\n",
    "        self.stop_words = list(set(stopwords.words(\"english\")))\n",
    "\n",
    "    def transform(self, series: Series, n_words_to_trim: int = 8) -> Series:\n",
    "        \"\"\"\n",
    "        Expects a Series of objects that can be converted to strings. Performs, in this order:\n",
    "        - Deletes the initial 'n_words_to_trim' of each row.\n",
    "        - Removes punctuation.\n",
    "        - Removes stopwords using the English NLTK dictionary.\n",
    "        - Performs stemming.\n",
    "\n",
    "        :param series: A pandas DataSeries.\n",
    "        :param n_words_to_trim: Number of words to delete from the beginning of each row.\n",
    "        :return: The transformed DataSeries.\n",
    "        \"\"\"\n",
    "        series = series.apply(self._trim, args=(n_words_to_trim,))\n",
    "        series = series.apply(self._remove_punc)\n",
    "        series = series.apply(self._stopw_stemm)\n",
    "        return series\n",
    "\n",
    "    def _stopw_stemm(self, document):\n",
    "        words = word_tokenize(document)\n",
    "        out = \"\"\n",
    "        for word in words:\n",
    "            if word in self.stop_words:\n",
    "                continue\n",
    "            out += \"{} \".format(self.stemmer.stem(word))\n",
    "        return out\n",
    "\n",
    "    def _trim(self, doc, words_to_trim = 8):\n",
    "        split = doc.split(None, words_to_trim)\n",
    "        if len(split) < words_to_trim+1: return doc\n",
    "        trimmed = split[words_to_trim]\n",
    "        return trimmed\n",
    "\n",
    "    def _remove_punc(self, doc):\n",
    "        return str(doc).translate(str.maketrans(\"\", \"\", string.punctuation))"
   ]
  },
  {
   "cell_type": "code",
   "execution_count": 10,
   "id": "hindu-phenomenon",
   "metadata": {},
   "outputs": [
    {
     "data": {
      "text/html": [
       "<div>\n",
       "<style scoped>\n",
       "    .dataframe tbody tr th:only-of-type {\n",
       "        vertical-align: middle;\n",
       "    }\n",
       "\n",
       "    .dataframe tbody tr th {\n",
       "        vertical-align: top;\n",
       "    }\n",
       "\n",
       "    .dataframe thead th {\n",
       "        text-align: right;\n",
       "    }\n",
       "</style>\n",
       "<table border=\"1\" class=\"dataframe\">\n",
       "  <thead>\n",
       "    <tr style=\"text-align: right;\">\n",
       "      <th></th>\n",
       "      <th>text</th>\n",
       "      <th>label</th>\n",
       "    </tr>\n",
       "  </thead>\n",
       "  <tbody>\n",
       "    <tr>\n",
       "      <th>0</th>\n",
       "      <td>republican faction US congress vote month huge...</td>\n",
       "      <td>0</td>\n",
       "    </tr>\n",
       "    <tr>\n",
       "      <th>1</th>\n",
       "      <td>first time enlist US militari start monday ord...</td>\n",
       "      <td>0</td>\n",
       "    </tr>\n",
       "    <tr>\n",
       "      <th>2</th>\n",
       "      <td>link russia presid trump ’ 2016 elect campaign...</td>\n",
       "      <td>0</td>\n",
       "    </tr>\n",
       "    <tr>\n",
       "      <th>3</th>\n",
       "      <td>told australian diplomat may 2016 russia polit...</td>\n",
       "      <td>0</td>\n",
       "    </tr>\n",
       "    <tr>\n",
       "      <th>4</th>\n",
       "      <td>US postal servic friday charg “ much ” ship pa...</td>\n",
       "      <td>0</td>\n",
       "    </tr>\n",
       "    <tr>\n",
       "      <th>...</th>\n",
       "      <td>...</td>\n",
       "      <td>...</td>\n",
       "    </tr>\n",
       "    <tr>\n",
       "      <th>1951</th>\n",
       "      <td>noth wrong first amend howev seem trump vice p...</td>\n",
       "      <td>1</td>\n",
       "    </tr>\n",
       "    <tr>\n",
       "      <th>2682</th>\n",
       "      <td>alec baldwin return saturday night live partic...</td>\n",
       "      <td>1</td>\n",
       "    </tr>\n",
       "    <tr>\n",
       "      <th>208</th>\n",
       "      <td>thursday said bigotri seem embolden US warn am...</td>\n",
       "      <td>1</td>\n",
       "    </tr>\n",
       "    <tr>\n",
       "      <th>7629</th>\n",
       "      <td>especi true current run presid side aisl So fi...</td>\n",
       "      <td>1</td>\n",
       "    </tr>\n",
       "    <tr>\n",
       "      <th>8021</th>\n",
       "      <td>moron militia surrend without fight oregon cli...</td>\n",
       "      <td>1</td>\n",
       "    </tr>\n",
       "  </tbody>\n",
       "</table>\n",
       "<p>42834 rows × 2 columns</p>\n",
       "</div>"
      ],
      "text/plain": [
       "                                                   text  label\n",
       "0     republican faction US congress vote month huge...      0\n",
       "1     first time enlist US militari start monday ord...      0\n",
       "2     link russia presid trump ’ 2016 elect campaign...      0\n",
       "3     told australian diplomat may 2016 russia polit...      0\n",
       "4     US postal servic friday charg “ much ” ship pa...      0\n",
       "...                                                 ...    ...\n",
       "1951  noth wrong first amend howev seem trump vice p...      1\n",
       "2682  alec baldwin return saturday night live partic...      1\n",
       "208   thursday said bigotri seem embolden US warn am...      1\n",
       "7629  especi true current run presid side aisl So fi...      1\n",
       "8021  moron militia surrend without fight oregon cli...      1\n",
       "\n",
       "[42834 rows x 2 columns]"
      ]
     },
     "execution_count": 10,
     "metadata": {},
     "output_type": "execute_result"
    }
   ],
   "source": [
    "prep = Preprocess()\n",
    "preprocessed = total.copy()\n",
    "preprocessed[\"text\"] = prep.transform(preprocessed[\"text\"])\n",
    "preprocessed.to_csv(\"preprocessed.csv\") # Checkpointing the dataset\n",
    "preprocessed"
   ]
  },
  {
   "cell_type": "markdown",
   "id": "biblical-cassette",
   "metadata": {},
   "source": [
    "#### A bit of data exploration\n",
    "\n",
    "These kind of approaches can only tell the difference between true and fake news using language as a proxy for it. We're not doing fact checking. We're just saying \"fake news usually have this kind of language\" and making a model to detect signals of that language.\n",
    "\n",
    "We can visualize the difference in language between true and fake news by plotting the tfidf score of ngrams. An ngram is just any combination of n words. The high tfidf score of, say, a 2-gram, would mean that that specific combination of 2 words appear many times in the documents compared to the other ngrams. More on how this scoring works [here](https://en.wikipedia.org/wiki/Tf%E2%80%93idf)\n",
    "\n",
    "Here there are the 30 best ranking 2- or 3- ngrams for true and fake news from a subset of articles:"
   ]
  },
  {
   "cell_type": "code",
   "execution_count": 11,
   "id": "delayed-qualification",
   "metadata": {},
   "outputs": [],
   "source": [
    "# A function to plot n-grams\n",
    "from sklearn.feature_extraction.text import CountVectorizer\n",
    "\n",
    "def plot_ngrams(data, min_n=1, max_n=3, rows=10):\n",
    "    cv = CountVectorizer(ngram_range =(min_n, max_n))\n",
    "    X1 = cv.fit_transform(data)\n",
    "    features = (cv.get_feature_names())\n",
    "    tfidf = TfidfVectorizer(ngram_range = (min_n,max_n)) \n",
    "    transformed = tfidf.fit_transform(data)\n",
    "    sums = transformed.sum(axis = 0) \n",
    "    data1 = [] \n",
    "    for col, term in enumerate(features):\n",
    "        try:\n",
    "            data1.append( (term, sums[0,col] )) \n",
    "        except IndexError:\n",
    "            continue\n",
    "    ranking = pd.DataFrame(data1, columns = ['term','rank']) \n",
    "    ranking = (ranking.sort_values('rank', ascending = False)) \n",
    "    ranking.head(rows).plot.bar(x=\"term\", y=\"rank\")\n",
    "    \n",
    "sample_fake = preprocessed[preprocessed[\"label\"] == 1 ][\"text\"].sample(n=100, random_state = 1)\n",
    "sample_true = preprocessed[preprocessed[\"label\"] == 0 ][\"text\"].sample(n=100, random_state = 1)"
   ]
  },
  {
   "cell_type": "code",
   "execution_count": 12,
   "id": "streaming-farming",
   "metadata": {},
   "outputs": [
    {
     "data": {
      "image/png": "[encoded data removed]",
      "text/plain": [
       "<Figure size 432x288 with 1 Axes>"
      ]
     },
     "metadata": {
      "needs_background": "light"
     },
     "output_type": "display_data"
    }
   ],
   "source": [
    "plot_ngrams(sample_true, 2, 3, 30) # True news"
   ]
  },
  {
   "cell_type": "code",
   "execution_count": 13,
   "id": "random-thunder",
   "metadata": {},
   "outputs": [
    {
     "data": {
      "image/png": "[encoded data removed]",
      "text/plain": [
       "<Figure size 432x288 with 1 Axes>"
      ]
     },
     "metadata": {
      "needs_background": "light"
     },
     "output_type": "display_data"
    }
   ],
   "source": [
    "plot_ngrams(sample_fake, 2, 3, 30) # Fake news"
   ]
  },
  {
   "cell_type": "markdown",
   "id": "soviet-first",
   "metadata": {},
   "source": [
    "We are still poisoned with the _ad hominem_ problem after seeing so many names ranking so high. However we can start to see the difference between true and fake news. True news highest ranking ngrams are just factual statements, while in the fake news the \"asham\" stem (probably from \"ashaming\" or \"ashamed\") and other more _emotional_ words and phrases appear. This is probably right, since a more emotional wording is usually a sign of fake news.\n",
    "\n",
    "### Training models\n",
    "\n",
    "The authors continue from this point with a wide analysis of several models. We can follow the same approach and do a grid search of the ngram range and the amount of features to include in the tfidf function. Also, for each trained model we'll use 5-fold cross validation and use the mean accuracy as a metric for model selection.\n",
    "\n",
    "We're going to test the following classifiers:\n",
    "\n",
    "- PassiveAggressiveClassifier\n",
    "- SGDClassifier\n",
    "- LinearSVC\n",
    "- LinearRegression\n",
    "- KNeighborsClassifier\n",
    "\n",
    "Ideally I'd add a support vector machine and a random forest classifier, but I don't have enough computing power at my disposal to run this whole grid search in a reasonable amount of time. "
   ]
  },
  {
   "cell_type": "code",
   "execution_count": 14,
   "id": "white-junior",
   "metadata": {},
   "outputs": [],
   "source": [
    "from sklearn.pipeline import Pipeline\n",
    "from sklearn.model_selection import GridSearchCV\n",
    "from sklearn.linear_model import SGDClassifier\n",
    "from sklearn.svm import LinearSVC\n",
    "from sklearn.svm import SVC\n",
    "from sklearn.linear_model import LinearRegression\n",
    "from sklearn.neighbors import KNeighborsClassifier\n",
    "from sklearn.ensemble import RandomForestClassifier\n",
    "\n",
    "pipes = {\"PassiveAggressiveClassifier\": Pipeline([(\"tfidf\", TfidfVectorizer()), (\"model\", PassiveAggressiveClassifier())])}\n",
    "pipes[\"SGDClassifier\"] =  Pipeline([(\"tfidf\", TfidfVectorizer()), (\"model\", SGDClassifier())])\n",
    "pipes[\"LinearSVC\"] =  Pipeline([(\"tfidf\", TfidfVectorizer()), (\"model\", LinearSVC())])\n",
    "pipes[\"LinearRegression\"] =  Pipeline([(\"tfidf\", TfidfVectorizer()), (\"model\", LinearRegression())])\n",
    "pipes[\"KNeighborsClassifier\"] =  Pipeline([(\"tfidf\", TfidfVectorizer()), (\"model\", KNeighborsClassifier())])\n",
    "\n",
    "# Not enough computing power for these two :(\n",
    "# pipes[\"SVC\"] =  Pipeline([(\"tfidf\", TfidfVectorizer()), (\"model\", SVC())])\n",
    "# pipes[\"RandomForestClassifier\"] =  Pipeline([(\"tfidf\", TfidfVectorizer()), (\"model\", RandomForestClassifier())])"
   ]
  },
  {
   "cell_type": "code",
   "execution_count": 15,
   "id": "broken-distinction",
   "metadata": {},
   "outputs": [],
   "source": [
    "# We're testing 4 different feature sizes.\n",
    "# Also we'll consider 1-grams, 2-grams 3-grams and 1- to 3- grams.\n",
    "# Also, we'll see the difference between using TF or IDF\n",
    "\n",
    "params = {\n",
    "    \"tfidf__max_features\": (1000,5000, 10000, 50000),\n",
    "    \"tfidf__ngram_range\": ((1,1), (2,2), (3,3), (1,3)),\n",
    "    \"tfidf__use_idf\": (False, True)\n",
    "}"
   ]
  },
  {
   "cell_type": "code",
   "execution_count": 16,
   "id": "structured-integral",
   "metadata": {},
   "outputs": [
    {
     "name": "stdout",
     "output_type": "stream",
     "text": [
      "Fitting: PassiveAggressiveClassifier\n",
      "Fitting 5 folds for each of 32 candidates, totalling 160 fits\n",
      "Fitting: SGDClassifier\n",
      "Fitting 5 folds for each of 32 candidates, totalling 160 fits\n",
      "Fitting: LinearSVC\n",
      "Fitting 5 folds for each of 32 candidates, totalling 160 fits\n",
      "Fitting: LinearRegression\n",
      "Fitting 5 folds for each of 32 candidates, totalling 160 fits\n",
      "Fitting: KNeighborsClassifier\n",
      "Fitting 5 folds for each of 32 candidates, totalling 160 fits\n"
     ]
    }
   ],
   "source": [
    "# Let's do the grid search. We'll score results with accuracy and F1 score. This will be a long one...\n",
    "\n",
    "results = []\n",
    "for key, value in pipes.items():\n",
    "    name = key\n",
    "    pipe = value\n",
    "    print(\"Fitting: {}\".format(name))\n",
    "    grid_search = GridSearchCV(pipe, params, n_jobs=3, verbose=4, scoring=[\"accuracy\", \"f1\"], refit=False)\n",
    "    grid_search.fit(preprocessed[\"text\"], preprocessed[\"label\"])\n",
    "    result = pd.DataFrame.from_dict(grid_search.cv_results_)\n",
    "    result[\"Classifier\"] = name\n",
    "    results.append(result)\n"
   ]
  },
  {
   "cell_type": "markdown",
   "id": "soviet-macedonia",
   "metadata": {},
   "source": [
    "Now let's check our results:"
   ]
  },
  {
   "cell_type": "code",
   "execution_count": 18,
   "id": "disabled-spanish",
   "metadata": {},
   "outputs": [
    {
     "data": {
      "text/html": [
       "<div>\n",
       "<style scoped>\n",
       "    .dataframe tbody tr th:only-of-type {\n",
       "        vertical-align: middle;\n",
       "    }\n",
       "\n",
       "    .dataframe tbody tr th {\n",
       "        vertical-align: top;\n",
       "    }\n",
       "\n",
       "    .dataframe thead th {\n",
       "        text-align: right;\n",
       "    }\n",
       "</style>\n",
       "<table border=\"1\" class=\"dataframe\">\n",
       "  <thead>\n",
       "    <tr style=\"text-align: right;\">\n",
       "      <th></th>\n",
       "      <th>Classifier</th>\n",
       "      <th>mean_test_accuracy</th>\n",
       "      <th>std_test_accuracy</th>\n",
       "      <th>mean_test_f1</th>\n",
       "      <th>std_test_f1</th>\n",
       "      <th>param_tfidf__max_features</th>\n",
       "      <th>param_tfidf__ngram_range</th>\n",
       "      <th>param_tfidf__use_idf</th>\n",
       "    </tr>\n",
       "  </thead>\n",
       "  <tbody>\n",
       "    <tr>\n",
       "      <th>0</th>\n",
       "      <td>PassiveAggressiveClassifier</td>\n",
       "      <td>0.980460</td>\n",
       "      <td>0.007503</td>\n",
       "      <td>0.980692</td>\n",
       "      <td>0.007275</td>\n",
       "      <td>50000</td>\n",
       "      <td>(1, 3)</td>\n",
       "      <td>True</td>\n",
       "    </tr>\n",
       "    <tr>\n",
       "      <th>1</th>\n",
       "      <td>LinearSVC</td>\n",
       "      <td>0.979829</td>\n",
       "      <td>0.007228</td>\n",
       "      <td>0.980083</td>\n",
       "      <td>0.007005</td>\n",
       "      <td>50000</td>\n",
       "      <td>(1, 3)</td>\n",
       "      <td>True</td>\n",
       "    </tr>\n",
       "    <tr>\n",
       "      <th>2</th>\n",
       "      <td>PassiveAggressiveClassifier</td>\n",
       "      <td>0.979246</td>\n",
       "      <td>0.007240</td>\n",
       "      <td>0.979481</td>\n",
       "      <td>0.007028</td>\n",
       "      <td>50000</td>\n",
       "      <td>(1, 3)</td>\n",
       "      <td>False</td>\n",
       "    </tr>\n",
       "    <tr>\n",
       "      <th>3</th>\n",
       "      <td>LinearSVC</td>\n",
       "      <td>0.978615</td>\n",
       "      <td>0.006421</td>\n",
       "      <td>0.978843</td>\n",
       "      <td>0.006226</td>\n",
       "      <td>50000</td>\n",
       "      <td>(1, 3)</td>\n",
       "      <td>False</td>\n",
       "    </tr>\n",
       "    <tr>\n",
       "      <th>4</th>\n",
       "      <td>LinearSVC</td>\n",
       "      <td>0.977004</td>\n",
       "      <td>0.006473</td>\n",
       "      <td>0.977243</td>\n",
       "      <td>0.006265</td>\n",
       "      <td>10000</td>\n",
       "      <td>(1, 3)</td>\n",
       "      <td>False</td>\n",
       "    </tr>\n",
       "    <tr>\n",
       "      <th>5</th>\n",
       "      <td>LinearSVC</td>\n",
       "      <td>0.976771</td>\n",
       "      <td>0.008660</td>\n",
       "      <td>0.977101</td>\n",
       "      <td>0.008385</td>\n",
       "      <td>10000</td>\n",
       "      <td>(1, 3)</td>\n",
       "      <td>True</td>\n",
       "    </tr>\n",
       "    <tr>\n",
       "      <th>6</th>\n",
       "      <td>LinearSVC</td>\n",
       "      <td>0.976234</td>\n",
       "      <td>0.006685</td>\n",
       "      <td>0.976470</td>\n",
       "      <td>0.006484</td>\n",
       "      <td>5000</td>\n",
       "      <td>(1, 3)</td>\n",
       "      <td>False</td>\n",
       "    </tr>\n",
       "    <tr>\n",
       "      <th>7</th>\n",
       "      <td>PassiveAggressiveClassifier</td>\n",
       "      <td>0.976001</td>\n",
       "      <td>0.009030</td>\n",
       "      <td>0.976352</td>\n",
       "      <td>0.008741</td>\n",
       "      <td>10000</td>\n",
       "      <td>(1, 3)</td>\n",
       "      <td>True</td>\n",
       "    </tr>\n",
       "    <tr>\n",
       "      <th>8</th>\n",
       "      <td>PassiveAggressiveClassifier</td>\n",
       "      <td>0.975931</td>\n",
       "      <td>0.008259</td>\n",
       "      <td>0.976278</td>\n",
       "      <td>0.007989</td>\n",
       "      <td>10000</td>\n",
       "      <td>(1, 3)</td>\n",
       "      <td>False</td>\n",
       "    </tr>\n",
       "    <tr>\n",
       "      <th>9</th>\n",
       "      <td>LinearSVC</td>\n",
       "      <td>0.975837</td>\n",
       "      <td>0.008005</td>\n",
       "      <td>0.976132</td>\n",
       "      <td>0.007749</td>\n",
       "      <td>50000</td>\n",
       "      <td>(1, 1)</td>\n",
       "      <td>True</td>\n",
       "    </tr>\n",
       "  </tbody>\n",
       "</table>\n",
       "</div>"
      ],
      "text/plain": [
       "                    Classifier  mean_test_accuracy  std_test_accuracy  \\\n",
       "0  PassiveAggressiveClassifier            0.980460           0.007503   \n",
       "1                    LinearSVC            0.979829           0.007228   \n",
       "2  PassiveAggressiveClassifier            0.979246           0.007240   \n",
       "3                    LinearSVC            0.978615           0.006421   \n",
       "4                    LinearSVC            0.977004           0.006473   \n",
       "5                    LinearSVC            0.976771           0.008660   \n",
       "6                    LinearSVC            0.976234           0.006685   \n",
       "7  PassiveAggressiveClassifier            0.976001           0.009030   \n",
       "8  PassiveAggressiveClassifier            0.975931           0.008259   \n",
       "9                    LinearSVC            0.975837           0.008005   \n",
       "\n",
       "   mean_test_f1  std_test_f1 param_tfidf__max_features  \\\n",
       "0      0.980692     0.007275                     50000   \n",
       "1      0.980083     0.007005                     50000   \n",
       "2      0.979481     0.007028                     50000   \n",
       "3      0.978843     0.006226                     50000   \n",
       "4      0.977243     0.006265                     10000   \n",
       "5      0.977101     0.008385                     10000   \n",
       "6      0.976470     0.006484                      5000   \n",
       "7      0.976352     0.008741                     10000   \n",
       "8      0.976278     0.007989                     10000   \n",
       "9      0.976132     0.007749                     50000   \n",
       "\n",
       "  param_tfidf__ngram_range param_tfidf__use_idf  \n",
       "0                   (1, 3)                 True  \n",
       "1                   (1, 3)                 True  \n",
       "2                   (1, 3)                False  \n",
       "3                   (1, 3)                False  \n",
       "4                   (1, 3)                False  \n",
       "5                   (1, 3)                 True  \n",
       "6                   (1, 3)                False  \n",
       "7                   (1, 3)                 True  \n",
       "8                   (1, 3)                False  \n",
       "9                   (1, 1)                 True  "
      ]
     },
     "execution_count": 18,
     "metadata": {},
     "output_type": "execute_result"
    }
   ],
   "source": [
    "results_total = results[0].append(results[1:]).sort_values(by=\"mean_test_accuracy\", ascending=False).reset_index().head(10)\n",
    "results_total[[\"Classifier\", \"mean_test_accuracy\", \"std_test_accuracy\", \"mean_test_f1\", \"std_test_f1\", \"param_tfidf__max_features\", \"param_tfidf__ngram_range\", \"param_tfidf__use_idf\"]]"
   ]
  },
  {
   "cell_type": "markdown",
   "id": "immune-advertiser",
   "metadata": {},
   "source": [
    "In this case we'll focus on the Accuracy score, as arguaibly false positives/negatives are not that important. If they were, the F1 score would be the better one. As we can see the Passive Agressive Classifier had the best performance with a reasonably low standard deviation between the 5 folds. As expected the max number of features (50k) had the best performance, as well as using IDF. Also, interestingly, the dynamic range of n-grams, which wasn't used in the research paper (from 1 to 3 words per ngram) had the best performance too. This made the model more dynamic and able to get meaning when it mattered while retaining the ability of using single words.\n",
    "\n",
    "Now we can finish by training this model on its own:"
   ]
  },
  {
   "cell_type": "code",
   "execution_count": 20,
   "id": "western-brunswick",
   "metadata": {},
   "outputs": [
    {
     "name": "stdout",
     "output_type": "stream",
     "text": [
      "Accuracy: 98.84 %\n",
      "F1 score: 98.87 %\n",
      "Confusion Matrix:\n",
      "[[4149   46]\n",
      " [  53 4319]]\n"
     ]
    }
   ],
   "source": [
    "from sklearn.metrics import f1_score\n",
    "\n",
    "x_train,x_test,y_train,y_test=train_test_split(preprocessed.text, preprocessed.label, test_size=0.2, random_state=123)\n",
    "\n",
    "tfidf_vectorizer = TfidfVectorizer(ngram_range=(1,3), max_features = 50000, use_idf = True)\n",
    "tfidf_train = tfidf_vectorizer.fit_transform(x_train) \n",
    "tfidf_test = tfidf_vectorizer.transform(x_test)\n",
    "pac = PassiveAggressiveClassifier(max_iter=50)\n",
    "pac.fit(tfidf_train,y_train)\n",
    "y_pred = pac.predict(tfidf_test)\n",
    "acc_score = accuracy_score(y_test,y_pred)\n",
    "f1_score = f1_score(y_test,y_pred)\n",
    "print(\"Accuracy: {:.2f} %\".format(100*acc_score))\n",
    "print(\"F1 score: {:.2f} %\".format(100*f1_score))\n",
    "print(\"Confusion Matrix:\\n{}\".format(confusion_matrix(y_test, y_pred)))"
   ]
  },
  {
   "cell_type": "markdown",
   "id": "revised-registration",
   "metadata": {},
   "source": [
    "Which is slightly better than what we saw in the grid search, probably due to the lack of cross validation. This result is very close to the initial naive approach, but way, way more generalizable and ready for the real world. It is also better than the paper's best result! (~90%)\n",
    "\n",
    "We could improve this with a proper vocabulary to remove media names, VIPs, places and so on, to fully prevent ad hominem biases, and just don't use the trimming function. An overall better approach could be designed with LSTM neural networks to focus more prominently on meaning. In this approach the closest thing to meaning that we have are stemmed ngrams.\n",
    "\n",
    "A way harder, but better, approach would be to build a full fact checker machine that somehow is able to extract topics and facts from the text with high level of detail and then scrap google to fact check these facts.\n",
    "\n",
    "Thank you for reading all of this!"
   ]
  }
 ],
 "metadata": {
  "kernelspec": {
   "display_name": "Python 3 (ipykernel)",
   "language": "python",
   "name": "python3"
  },
  "language_info": {
   "codemirror_mode": {
    "name": "ipython",
    "version": 3
   },
   "file_extension": ".py",
   "mimetype": "text/x-python",
   "name": "python",
   "nbconvert_exporter": "python",
   "pygments_lexer": "ipython3",
   "version": "3.10.0"
  }
 },
 "nbformat": 4,
 "nbformat_minor": 5
}